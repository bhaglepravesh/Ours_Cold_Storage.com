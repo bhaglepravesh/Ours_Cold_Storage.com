{
 "cells": [
  {
   "cell_type": "code",
   "execution_count": null,
   "id": "7a2df728",
   "metadata": {},
   "outputs": [],
   "source": [
    "import random\n",
    "import smtplib"
   ]
  },
  {
   "cell_type": "code",
   "execution_count": null,
   "id": "ecca7414",
   "metadata": {},
   "outputs": [],
   "source": [
    "server=smtplib.SMTP(\"smtp.gmail.com\",587)\n",
    "server.starttls()\n",
    "server.login(\"praveshbhagle@gmail.com\",\"ojbdlhzcznturhdz\")\n",
    "OTP=\"\".join([str(random.randint(0,9)) for i in range(6)])\n",
    "msg='Hello , Your OTP for Verification is :'+str(OTP)\n",
    "server.sendmail(\"praveshbhagle@gmail.com\",\"razsahil121@gmail.com\",msg)\n",
    "server.quit()"
   ]
  },
  {
   "cell_type": "code",
   "execution_count": 1,
   "id": "107771f3",
   "metadata": {},
   "outputs": [
    {
     "name": "stdout",
     "output_type": "stream",
     "text": [
      "Enter your email : \n",
      "praveshkumar.my255@gmail.com\n",
      "mail sent\n"
     ]
    }
   ],
   "source": [
    "# pip install secure-smtplib --user\n",
    "import smtplib\n",
    "import random\n",
    "def genotp(email):\n",
    "    server=smtplib.SMTP('smtp.gmail.com',587)\n",
    "    server.starttls()\n",
    "    server.login('praveshbhagle@gmail.com','ojbdlhzcznturhdz')\n",
    "    OTP=''.join([str(random.randint(0,9)) for i in range(6)])\n",
    "    msg=f'Hello , Your OTP for Verification is {OTP}'\n",
    "    \n",
    "    server.sendmail('praveshbhagle@gmail.com',email,msg)\n",
    "    server.quit()\n",
    "    print(\"mail sent\")\n",
    "    \n",
    "    \n",
    "email=input(\"Enter your email : \\n\")\n",
    "genotp(email)"
   ]
  },
  {
   "cell_type": "code",
   "execution_count": null,
   "id": "bed9bc35",
   "metadata": {},
   "outputs": [],
   "source": []
  }
 ],
 "metadata": {
  "kernelspec": {
   "display_name": "Python 3 (ipykernel)",
   "language": "python",
   "name": "python3"
  },
  "language_info": {
   "codemirror_mode": {
    "name": "ipython",
    "version": 3
   },
   "file_extension": ".py",
   "mimetype": "text/x-python",
   "name": "python",
   "nbconvert_exporter": "python",
   "pygments_lexer": "ipython3",
   "version": "3.9.12"
  }
 },
 "nbformat": 4,
 "nbformat_minor": 5
}
